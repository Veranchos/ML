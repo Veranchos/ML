{
 "cells": [
  {
   "cell_type": "code",
   "execution_count": 1,
   "metadata": {},
   "outputs": [],
   "source": [
    "import pandas as pd\n",
    "import csv\n",
    "import re"
   ]
  },
  {
   "cell_type": "markdown",
   "metadata": {},
   "source": [
    "### 1.  Подготовка данных"
   ]
  },
  {
   "cell_type": "code",
   "execution_count": 2,
   "metadata": {},
   "outputs": [],
   "source": [
    "train = pd.read_csv('train.csv',sep = '\\t', quoting=csv.QUOTE_NONE, encoding='utf-8')\n",
    "test = pd.read_csv('test.csv',sep = '\\t', quoting=csv.QUOTE_NONE, encoding='utf-8')\n",
    "dev = pd.read_csv('dev.csv',sep = '\\t', quoting=csv.QUOTE_NONE, encoding='utf-8')"
   ]
  },
  {
   "cell_type": "code",
   "execution_count": 3,
   "metadata": {},
   "outputs": [
    {
     "name": "stdout",
     "output_type": "stream",
     "text": [
      "train:\n",
      "Примеров класса 1:  2425\n",
      "Примеров класса 0:  4900 \n",
      "\n",
      "test:\n",
      "Примеров класса 1:  680\n",
      "Примеров класса 0:  1365 \n",
      "\n",
      "dev:\n",
      "Примеров класса 1:  956\n",
      "Примеров класса 0:  1981 \n",
      "\n"
     ]
    }
   ],
   "source": [
    "print('train:')\n",
    "print('Примеров класса 1: ', int(train['class'].sum()))\n",
    "print('Примеров класса 0: ', int(len(train['class'])-train['class'].sum()), '\\n')\n",
    "print('test:')\n",
    "print('Примеров класса 1: ', int(test['class'].sum()))\n",
    "print('Примеров класса 0: ', int(len(test['class'])-test['class'].sum()), '\\n')\n",
    "print('dev:')\n",
    "print('Примеров класса 1: ', int(dev['class'].sum()))\n",
    "print('Примеров класса 0: ', int(len(dev['class'])-dev['class'].sum()), '\\n')"
   ]
  },
  {
   "cell_type": "markdown",
   "metadata": {},
   "source": [
    "### 2. Анализ разметки"
   ]
  },
  {
   "cell_type": "code",
   "execution_count": 4,
   "metadata": {},
   "outputs": [],
   "source": [
    "train = train[train['class'] != 0]\n",
    "test = test[test['class'] != 0]\n",
    "dev = dev[dev['class'] != 0]"
   ]
  },
  {
   "cell_type": "code",
   "execution_count": 5,
   "metadata": {},
   "outputs": [],
   "source": [
    "strange_cases = pd.DataFrame(columns=['text', 'class', 'cV', 'cR1', 'cR2', 'V', 'R1', 'R2'])"
   ]
  },
  {
   "cell_type": "code",
   "execution_count": 6,
   "metadata": {
    "scrolled": false
   },
   "outputs": [],
   "source": [
    "pattern = re.compile(r'^(\\d+:\\d+)$')\n",
    "\n",
    "for index, row in test.loc[:,'cV':].iterrows():\n",
    "    for i in row:\n",
    "        if not re.match(pattern, str(i)):\n",
    "            strange_cases = strange_cases.append(test.loc[index])\n",
    "\n",
    "for index, row in train.loc[:,'cV':].iterrows():\n",
    "    for i in row:\n",
    "        if not re.match(pattern, str(i)):\n",
    "            strange_cases = strange_cases.append(train.loc[index])\n",
    "            \n",
    "for index, row in dev.loc[:,'cV':].iterrows():\n",
    "    for i in row:\n",
    "        if not re.match(pattern, str(i)):\n",
    "            strange_cases = strange_cases.append(dev.loc[index])"
   ]
  },
  {
   "cell_type": "code",
   "execution_count": 31,
   "metadata": {},
   "outputs": [
    {
     "data": {
      "text/html": [
       "<div>\n",
       "<style scoped>\n",
       "    .dataframe tbody tr th:only-of-type {\n",
       "        vertical-align: middle;\n",
       "    }\n",
       "\n",
       "    .dataframe tbody tr th {\n",
       "        vertical-align: top;\n",
       "    }\n",
       "\n",
       "    .dataframe thead th {\n",
       "        text-align: right;\n",
       "    }\n",
       "</style>\n",
       "<table border=\"1\" class=\"dataframe\">\n",
       "  <thead>\n",
       "    <tr style=\"text-align: right;\">\n",
       "      <th></th>\n",
       "      <th>text</th>\n",
       "      <th>class</th>\n",
       "      <th>cV</th>\n",
       "      <th>cR1</th>\n",
       "      <th>cR2</th>\n",
       "      <th>V</th>\n",
       "      <th>R1</th>\n",
       "      <th>R2</th>\n",
       "    </tr>\n",
       "  </thead>\n",
       "  <tbody>\n",
       "    <tr>\n",
       "      <th>23</th>\n",
       "      <td>Друзья делают твой смех немного громче, твою у...</td>\n",
       "      <td>1</td>\n",
       "      <td>7:13</td>\n",
       "      <td>14:23</td>\n",
       "      <td>24:38</td>\n",
       "      <td>52:52 79:79</td>\n",
       "      <td>40:51 68:78</td>\n",
       "      <td>52:64 79:92</td>\n",
       "    </tr>\n",
       "    <tr>\n",
       "      <th>126</th>\n",
       "      <td>При этом один из этих выводов используется для...</td>\n",
       "      <td>1</td>\n",
       "      <td>30:42</td>\n",
       "      <td>9:29</td>\n",
       "      <td>43:59</td>\n",
       "      <td>68:68 92:92</td>\n",
       "      <td>61:67 82:91</td>\n",
       "      <td>68:78 92:175</td>\n",
       "    </tr>\n",
       "    <tr>\n",
       "      <th>175</th>\n",
       "      <td>- Невеста притворяется, что она девственница, ...</td>\n",
       "      <td>1</td>\n",
       "      <td>10:22</td>\n",
       "      <td>2:9</td>\n",
       "      <td>24:44</td>\n",
       "      <td>54:54 109:109</td>\n",
       "      <td>46:51 83:106</td>\n",
       "      <td>54:81 109:132</td>\n",
       "    </tr>\n",
       "    <tr>\n",
       "      <th>206</th>\n",
       "      <td>Его деликатность была объявлена лицемерием, ег...</td>\n",
       "      <td>1</td>\n",
       "      <td>22:31</td>\n",
       "      <td>0:16</td>\n",
       "      <td>32:42</td>\n",
       "      <td>73:73 107:107</td>\n",
       "      <td>44:70 91:104</td>\n",
       "      <td>73:89 107:121</td>\n",
       "    </tr>\n",
       "    <tr>\n",
       "      <th>230</th>\n",
       "      <td>В бумажнике я обнаружил упаковку с тремя презе...</td>\n",
       "      <td>1</td>\n",
       "      <td>14:23</td>\n",
       "      <td>0:11</td>\n",
       "      <td>24:55</td>\n",
       "      <td>78:78 114:114</td>\n",
       "      <td>57:75 102:111</td>\n",
       "      <td>78:98 114:135</td>\n",
       "    </tr>\n",
       "  </tbody>\n",
       "</table>\n",
       "</div>"
      ],
      "text/plain": [
       "                                                  text class     cV    cR1  \\\n",
       "23   Друзья делают твой смех немного громче, твою у...     1   7:13  14:23   \n",
       "126  При этом один из этих выводов используется для...     1  30:42   9:29   \n",
       "175  - Невеста притворяется, что она девственница, ...     1  10:22    2:9   \n",
       "206  Его деликатность была объявлена лицемерием, ег...     1  22:31   0:16   \n",
       "230  В бумажнике я обнаружил упаковку с тремя презе...     1  14:23   0:11   \n",
       "\n",
       "       cR2              V             R1             R2  \n",
       "23   24:38    52:52 79:79    40:51 68:78    52:64 79:92  \n",
       "126  43:59    68:68 92:92    61:67 82:91   68:78 92:175  \n",
       "175  24:44  54:54 109:109   46:51 83:106  54:81 109:132  \n",
       "206  32:42  73:73 107:107   44:70 91:104  73:89 107:121  \n",
       "230  24:55  78:78 114:114  57:75 102:111  78:98 114:135  "
      ]
     },
     "execution_count": 31,
     "metadata": {},
     "output_type": "execute_result"
    }
   ],
   "source": [
    "strange_cases = strange_cases.drop_duplicates()\n",
    "strange_cases.head()"
   ]
  },
  {
   "cell_type": "code",
   "execution_count": 8,
   "metadata": {
    "scrolled": true
   },
   "outputs": [
    {
     "data": {
      "text/plain": [
       "(274, 8)"
      ]
     },
     "execution_count": 8,
     "metadata": {},
     "output_type": "execute_result"
    }
   ],
   "source": [
    "multiple_pairs = strange_cases.dropna(how='any')\n",
    "multiple_pairs.shape"
   ]
  },
  {
   "cell_type": "markdown",
   "metadata": {},
   "source": [
    "В большинстве случаев, отклоняющихся от нормы (274), в ячейках содержится по две и более пар оффсетов, например:"
   ]
  },
  {
   "cell_type": "code",
   "execution_count": 10,
   "metadata": {},
   "outputs": [
    {
     "data": {
      "text/plain": [
       "'Именно поэтому прогресс в данном случае ассоциировался прежде всего с индустриальной экспансией, богатство — с накоплением финансовых резервов, а хозяйственный потенциал — с массой основных производственных фондов и доступных естественных ресурсов.'"
      ]
     },
     "execution_count": 10,
     "metadata": {},
     "output_type": "execute_result"
    }
   ],
   "source": [
    "strange_cases['text'][368]"
   ]
  },
  {
   "cell_type": "markdown",
   "metadata": {},
   "source": [
    "Предикат _ассоциировался_ пропущен дважды\n",
    "\n",
    "Ещё пример:"
   ]
  },
  {
   "cell_type": "code",
   "execution_count": 11,
   "metadata": {},
   "outputs": [
    {
     "data": {
      "text/plain": [
       "'По сравнению с декабрем 2005 г. индекс Доу-Джонса возрос на 2,9%, Xetra DAX-30 — на 9,7%, CAC-40 — на 8,8%, FTSE-100 — на 7,1%, Nikkei 225 — на 4,2%, Hang Seng — на 4,4%.'"
      ]
     },
     "execution_count": 11,
     "metadata": {},
     "output_type": "execute_result"
    }
   ],
   "source": [
    "multiple_pairs['text'][600]"
   ]
  },
  {
   "cell_type": "code",
   "execution_count": 12,
   "metadata": {},
   "outputs": [
    {
     "data": {
      "text/plain": [
       "'81:81 99:99 119:119 141:141 162:162'"
      ]
     },
     "execution_count": 12,
     "metadata": {},
     "output_type": "execute_result"
    }
   ],
   "source": [
    "multiple_pairs['V'][600]"
   ]
  },
  {
   "cell_type": "markdown",
   "metadata": {},
   "source": [
    "предикат _возрос_ опущен 5 раз\n",
    "\n",
    "Посмотрим на другие случаи"
   ]
  },
  {
   "cell_type": "code",
   "execution_count": 13,
   "metadata": {
    "scrolled": false
   },
   "outputs": [],
   "source": [
    "other_cases = pd.DataFrame(columns=['text', 'class', 'cV', 'cR1', 'cR2', 'V', 'R1', 'R2'])\n",
    "for index, row in strange_cases.iterrows():\n",
    "    for i in row:\n",
    "        if 'nan' in str(i):\n",
    "            other_cases = other_cases.append(row)"
   ]
  },
  {
   "cell_type": "code",
   "execution_count": 14,
   "metadata": {
    "scrolled": false
   },
   "outputs": [
    {
     "data": {
      "text/plain": [
       "(85, 8)"
      ]
     },
     "execution_count": 14,
     "metadata": {},
     "output_type": "execute_result"
    }
   ],
   "source": [
    "other_cases = other_cases.drop_duplicates()\n",
    "other_cases.shape"
   ]
  },
  {
   "cell_type": "markdown",
   "metadata": {},
   "source": [
    "2 предложения оказались неразмеченными:"
   ]
  },
  {
   "cell_type": "code",
   "execution_count": 15,
   "metadata": {
    "scrolled": false
   },
   "outputs": [
    {
     "name": "stdout",
     "output_type": "stream",
     "text": [
      "text     Он с трудом передвигается на ногах, как если б...\n",
      "class                                                  NaN\n",
      "cV                                                     NaN\n",
      "cR1                                                    NaN\n",
      "cR2                                                    NaN\n",
      "V                                                      NaN\n",
      "R1                                                     NaN\n",
      "R2                                                     NaN\n",
      "Name: 7324, dtype: object\n",
      "text     в июне 2011 года по сравнению с декабр\n",
      "class                                       NaN\n",
      "cV                                          NaN\n",
      "cR1                                         NaN\n",
      "cR2                                         NaN\n",
      "V                                           NaN\n",
      "R1                                          NaN\n",
      "R2                                          NaN\n",
      "Name: 2936, dtype: object\n"
     ]
    }
   ],
   "source": [
    "for index, row in other_cases.iterrows():\n",
    "    if str(row['class']) == 'nan':\n",
    "        print(row)\n",
    "        other_cases = other_cases.drop(index)"
   ]
  },
  {
   "cell_type": "markdown",
   "metadata": {},
   "source": [
    "В остальных случаях пропущены cR2 и, соответсвенно, R2:"
   ]
  },
  {
   "cell_type": "markdown",
   "metadata": {},
   "source": [
    "## !!!!!!Здесь требуется мнение экспертов"
   ]
  },
  {
   "cell_type": "code",
   "execution_count": 17,
   "metadata": {},
   "outputs": [
    {
     "data": {
      "text/plain": [
       "'Девушка поднимает глаза, смотрит на Нэша, потом – на меня.'"
      ]
     },
     "execution_count": 17,
     "metadata": {},
     "output_type": "execute_result"
    }
   ],
   "source": [
    "other_cases['text'][1262]"
   ]
  },
  {
   "cell_type": "markdown",
   "metadata": {},
   "source": [
    "В этом случае субъект действия _девушка_ находится в другой клаузе **ЭТО НОРМ?**"
   ]
  },
  {
   "cell_type": "code",
   "execution_count": 18,
   "metadata": {
    "scrolled": true
   },
   "outputs": [
    {
     "data": {
      "text/plain": [
       "'Переступив через порог, я обнаружил небольшую площадку, спиральную лестницу, а наверху — стойку с инструментами в каменной будке.'"
      ]
     },
     "execution_count": 18,
     "metadata": {},
     "output_type": "execute_result"
    }
   ],
   "source": [
    "other_cases['text'][852]"
   ]
  },
  {
   "cell_type": "markdown",
   "metadata": {},
   "source": [
    "##### Здесь вообще всё хорошо,ничё не понимаю"
   ]
  },
  {
   "cell_type": "code",
   "execution_count": 27,
   "metadata": {
    "scrolled": true
   },
   "outputs": [],
   "source": [
    "for index, row in other_cases.iterrows():\n",
    "    if str(row['cR2']) == 'nan':\n",
    "        other_cases = other_cases.drop(index)"
   ]
  },
  {
   "cell_type": "code",
   "execution_count": 28,
   "metadata": {},
   "outputs": [
    {
     "data": {
      "text/plain": [
       "(0, 8)"
      ]
     },
     "execution_count": 28,
     "metadata": {},
     "output_type": "execute_result"
    }
   ],
   "source": [
    "other_cases.shape"
   ]
  },
  {
   "cell_type": "markdown",
   "metadata": {},
   "source": [
    "Других случаев нет"
   ]
  },
  {
   "cell_type": "markdown",
   "metadata": {},
   "source": [
    "#### Вывод"
   ]
  },
  {
   "cell_type": "code",
   "execution_count": 25,
   "metadata": {},
   "outputs": [],
   "source": [
    "analysis = pd.DataFrame([['Две и более пары оффсетов', '274', strange_cases['text'][543]],\\\n",
    "                        ['Отсутствует cR2', '83', strange_cases['text'][1853]],\\\n",
    "                        ['Предложение не размечено', '2', strange_cases['text'][2936]]],\n",
    "                        columns = ['Описание кейса', 'Количество случаев', 'Пример'])"
   ]
  },
  {
   "cell_type": "code",
   "execution_count": 26,
   "metadata": {},
   "outputs": [
    {
     "data": {
      "text/html": [
       "<div>\n",
       "<style scoped>\n",
       "    .dataframe tbody tr th:only-of-type {\n",
       "        vertical-align: middle;\n",
       "    }\n",
       "\n",
       "    .dataframe tbody tr th {\n",
       "        vertical-align: top;\n",
       "    }\n",
       "\n",
       "    .dataframe thead th {\n",
       "        text-align: right;\n",
       "    }\n",
       "</style>\n",
       "<table border=\"1\" class=\"dataframe\">\n",
       "  <thead>\n",
       "    <tr style=\"text-align: right;\">\n",
       "      <th></th>\n",
       "      <th>Описание кейса</th>\n",
       "      <th>Количество случаев</th>\n",
       "      <th>Пример</th>\n",
       "    </tr>\n",
       "  </thead>\n",
       "  <tbody>\n",
       "    <tr>\n",
       "      <th>0</th>\n",
       "      <td>Две и более пары оффсетов</td>\n",
       "      <td>274</td>\n",
       "      <td>В садике я мечтала о школе, в школе — об инсти...</td>\n",
       "    </tr>\n",
       "    <tr>\n",
       "      <th>1</th>\n",
       "      <td>Отсутствует cR2</td>\n",
       "      <td>83</td>\n",
       "      <td>Гарри в замешательстве уставился на Дамблдора,...</td>\n",
       "    </tr>\n",
       "    <tr>\n",
       "      <th>2</th>\n",
       "      <td>Предложение не размечено</td>\n",
       "      <td>2</td>\n",
       "      <td>в июне 2011 года по сравнению с декабр</td>\n",
       "    </tr>\n",
       "  </tbody>\n",
       "</table>\n",
       "</div>"
      ],
      "text/plain": [
       "              Описание кейса Количество случаев  \\\n",
       "0  Две и более пары оффсетов                274   \n",
       "1            Отсутствует cR2                 83   \n",
       "2   Предложение не размечено                  2   \n",
       "\n",
       "                                              Пример  \n",
       "0  В садике я мечтала о школе, в школе — об инсти...  \n",
       "1  Гарри в замешательстве уставился на Дамблдора,...  \n",
       "2             в июне 2011 года по сравнению с декабр  "
      ]
     },
     "execution_count": 26,
     "metadata": {},
     "output_type": "execute_result"
    }
   ],
   "source": [
    "analysis"
   ]
  },
  {
   "cell_type": "code",
   "execution_count": null,
   "metadata": {},
   "outputs": [],
   "source": []
  }
 ],
 "metadata": {
  "kernelspec": {
   "display_name": "Python 3",
   "language": "python",
   "name": "python3"
  },
  "language_info": {
   "codemirror_mode": {
    "name": "ipython",
    "version": 3
   },
   "file_extension": ".py",
   "mimetype": "text/x-python",
   "name": "python",
   "nbconvert_exporter": "python",
   "pygments_lexer": "ipython3",
   "version": "3.7.1"
  }
 },
 "nbformat": 4,
 "nbformat_minor": 2
}
